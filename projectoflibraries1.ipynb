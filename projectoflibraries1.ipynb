{
 "cells": [
  {
   "cell_type": "code",
   "execution_count": 1,
   "id": "a0888273-3fdb-4162-9192-37c905e07a65",
   "metadata": {},
   "outputs": [],
   "source": [
    "#INTRODUCTION---->Commerce Sales Data Analysis-->This project analyzes sales data to uncover trends,best-selling products,and revenue patterns \n",
    "#using pandas & matlptolib"
   ]
  },
  {
   "cell_type": "code",
   "execution_count": 4,
   "id": "a46a4f45-3290-4a2e-8cc3-7d04b2cc2cbf",
   "metadata": {},
   "outputs": [],
   "source": [
    "import pandas as pd\n",
    "import matplotlib.pyplot as plt"
   ]
  },
  {
   "cell_type": "code",
   "execution_count": 10,
   "id": "b0251973-1290-4395-87e4-c03fafe8487f",
   "metadata": {},
   "outputs": [
    {
     "data": {
      "text/html": [
       "<div>\n",
       "<style scoped>\n",
       "    .dataframe tbody tr th:only-of-type {\n",
       "        vertical-align: middle;\n",
       "    }\n",
       "\n",
       "    .dataframe tbody tr th {\n",
       "        vertical-align: top;\n",
       "    }\n",
       "\n",
       "    .dataframe thead th {\n",
       "        text-align: right;\n",
       "    }\n",
       "</style>\n",
       "<table border=\"1\" class=\"dataframe\">\n",
       "  <thead>\n",
       "    <tr style=\"text-align: right;\">\n",
       "      <th></th>\n",
       "      <th>Order ID</th>\n",
       "      <th>Order Date</th>\n",
       "      <th>Customer Name</th>\n",
       "      <th>Region</th>\n",
       "      <th>Category</th>\n",
       "      <th>Product</th>\n",
       "      <th>Quantity</th>\n",
       "      <th>Price</th>\n",
       "    </tr>\n",
       "  </thead>\n",
       "  <tbody>\n",
       "    <tr>\n",
       "      <th>0</th>\n",
       "      <td>1001</td>\n",
       "      <td>2023-01-05</td>\n",
       "      <td>Alice</td>\n",
       "      <td>North</td>\n",
       "      <td>Electronics</td>\n",
       "      <td>Laptop</td>\n",
       "      <td>1</td>\n",
       "      <td>800</td>\n",
       "    </tr>\n",
       "    <tr>\n",
       "      <th>1</th>\n",
       "      <td>1002</td>\n",
       "      <td>2023-01-12</td>\n",
       "      <td>Bob</td>\n",
       "      <td>East</td>\n",
       "      <td>Clothing</td>\n",
       "      <td>Shirt</td>\n",
       "      <td>2</td>\n",
       "      <td>40</td>\n",
       "    </tr>\n",
       "    <tr>\n",
       "      <th>2</th>\n",
       "      <td>1003</td>\n",
       "      <td>2023-02-14</td>\n",
       "      <td>Charlie</td>\n",
       "      <td>West</td>\n",
       "      <td>Electronics</td>\n",
       "      <td>Headphones</td>\n",
       "      <td>1</td>\n",
       "      <td>100</td>\n",
       "    </tr>\n",
       "    <tr>\n",
       "      <th>3</th>\n",
       "      <td>1004</td>\n",
       "      <td>2023-02-20</td>\n",
       "      <td>David</td>\n",
       "      <td>South</td>\n",
       "      <td>Furniture</td>\n",
       "      <td>Chair</td>\n",
       "      <td>1</td>\n",
       "      <td>150</td>\n",
       "    </tr>\n",
       "    <tr>\n",
       "      <th>4</th>\n",
       "      <td>1005</td>\n",
       "      <td>2023-03-05</td>\n",
       "      <td>Eve</td>\n",
       "      <td>North</td>\n",
       "      <td>Clothing</td>\n",
       "      <td>Jeans</td>\n",
       "      <td>3</td>\n",
       "      <td>60</td>\n",
       "    </tr>\n",
       "    <tr>\n",
       "      <th>5</th>\n",
       "      <td>1006</td>\n",
       "      <td>2023-03-18</td>\n",
       "      <td>Frank</td>\n",
       "      <td>East</td>\n",
       "      <td>Furniture</td>\n",
       "      <td>Table</td>\n",
       "      <td>1</td>\n",
       "      <td>300</td>\n",
       "    </tr>\n",
       "    <tr>\n",
       "      <th>6</th>\n",
       "      <td>1007</td>\n",
       "      <td>2023-04-02</td>\n",
       "      <td>Grace</td>\n",
       "      <td>West</td>\n",
       "      <td>Electronics</td>\n",
       "      <td>Mouse</td>\n",
       "      <td>2</td>\n",
       "      <td>25</td>\n",
       "    </tr>\n",
       "    <tr>\n",
       "      <th>7</th>\n",
       "      <td>1008</td>\n",
       "      <td>2023-04-15</td>\n",
       "      <td>Hannah</td>\n",
       "      <td>South</td>\n",
       "      <td>Clothing</td>\n",
       "      <td>T-Shirt</td>\n",
       "      <td>2</td>\n",
       "      <td>30</td>\n",
       "    </tr>\n",
       "    <tr>\n",
       "      <th>8</th>\n",
       "      <td>1009</td>\n",
       "      <td>2023-05-10</td>\n",
       "      <td>Ian</td>\n",
       "      <td>North</td>\n",
       "      <td>Furniture</td>\n",
       "      <td>Sofa</td>\n",
       "      <td>1</td>\n",
       "      <td>500</td>\n",
       "    </tr>\n",
       "    <tr>\n",
       "      <th>9</th>\n",
       "      <td>1010</td>\n",
       "      <td>2023-05-22</td>\n",
       "      <td>Jack</td>\n",
       "      <td>East</td>\n",
       "      <td>Electronics</td>\n",
       "      <td>Keyboard</td>\n",
       "      <td>1</td>\n",
       "      <td>45</td>\n",
       "    </tr>\n",
       "  </tbody>\n",
       "</table>\n",
       "</div>"
      ],
      "text/plain": [
       "   Order ID  Order Date Customer Name Region     Category     Product  \\\n",
       "0      1001  2023-01-05         Alice  North  Electronics      Laptop   \n",
       "1      1002  2023-01-12           Bob   East     Clothing       Shirt   \n",
       "2      1003  2023-02-14       Charlie   West  Electronics  Headphones   \n",
       "3      1004  2023-02-20         David  South    Furniture       Chair   \n",
       "4      1005  2023-03-05           Eve  North     Clothing       Jeans   \n",
       "5      1006  2023-03-18         Frank   East    Furniture       Table   \n",
       "6      1007  2023-04-02         Grace   West  Electronics       Mouse   \n",
       "7      1008  2023-04-15        Hannah  South     Clothing     T-Shirt   \n",
       "8      1009  2023-05-10           Ian  North    Furniture        Sofa   \n",
       "9      1010  2023-05-22          Jack   East  Electronics    Keyboard   \n",
       "\n",
       "   Quantity  Price  \n",
       "0         1    800  \n",
       "1         2     40  \n",
       "2         1    100  \n",
       "3         1    150  \n",
       "4         3     60  \n",
       "5         1    300  \n",
       "6         2     25  \n",
       "7         2     30  \n",
       "8         1    500  \n",
       "9         1     45  "
      ]
     },
     "execution_count": 10,
     "metadata": {},
     "output_type": "execute_result"
    }
   ],
   "source": [
    "d=pd.read_csv(r\"C:\\Users\\Pooja Taneja\\Downloads\\ecommerce_sales_data.csv\")\n",
    "d"
   ]
  },
  {
   "cell_type": "code",
   "execution_count": 18,
   "id": "d0fc9af5-8e4e-4e17-88c3-a70c84ec0069",
   "metadata": {},
   "outputs": [
    {
     "data": {
      "text/html": [
       "<div>\n",
       "<style scoped>\n",
       "    .dataframe tbody tr th:only-of-type {\n",
       "        vertical-align: middle;\n",
       "    }\n",
       "\n",
       "    .dataframe tbody tr th {\n",
       "        vertical-align: top;\n",
       "    }\n",
       "\n",
       "    .dataframe thead th {\n",
       "        text-align: right;\n",
       "    }\n",
       "</style>\n",
       "<table border=\"1\" class=\"dataframe\">\n",
       "  <thead>\n",
       "    <tr style=\"text-align: right;\">\n",
       "      <th></th>\n",
       "      <th>Order ID</th>\n",
       "      <th>Order Date</th>\n",
       "      <th>Customer Name</th>\n",
       "      <th>Region</th>\n",
       "      <th>Category</th>\n",
       "      <th>Product</th>\n",
       "      <th>Quantity</th>\n",
       "      <th>Price</th>\n",
       "    </tr>\n",
       "  </thead>\n",
       "  <tbody>\n",
       "    <tr>\n",
       "      <th>0</th>\n",
       "      <td>1001</td>\n",
       "      <td>2023-01-05</td>\n",
       "      <td>Alice</td>\n",
       "      <td>North</td>\n",
       "      <td>Electronics</td>\n",
       "      <td>Laptop</td>\n",
       "      <td>1</td>\n",
       "      <td>800</td>\n",
       "    </tr>\n",
       "    <tr>\n",
       "      <th>1</th>\n",
       "      <td>1002</td>\n",
       "      <td>2023-01-12</td>\n",
       "      <td>Bob</td>\n",
       "      <td>East</td>\n",
       "      <td>Clothing</td>\n",
       "      <td>Shirt</td>\n",
       "      <td>2</td>\n",
       "      <td>40</td>\n",
       "    </tr>\n",
       "    <tr>\n",
       "      <th>2</th>\n",
       "      <td>1003</td>\n",
       "      <td>2023-02-14</td>\n",
       "      <td>Charlie</td>\n",
       "      <td>West</td>\n",
       "      <td>Electronics</td>\n",
       "      <td>Headphones</td>\n",
       "      <td>1</td>\n",
       "      <td>100</td>\n",
       "    </tr>\n",
       "    <tr>\n",
       "      <th>3</th>\n",
       "      <td>1004</td>\n",
       "      <td>2023-02-20</td>\n",
       "      <td>David</td>\n",
       "      <td>South</td>\n",
       "      <td>Furniture</td>\n",
       "      <td>Chair</td>\n",
       "      <td>1</td>\n",
       "      <td>150</td>\n",
       "    </tr>\n",
       "    <tr>\n",
       "      <th>4</th>\n",
       "      <td>1005</td>\n",
       "      <td>2023-03-05</td>\n",
       "      <td>Eve</td>\n",
       "      <td>North</td>\n",
       "      <td>Clothing</td>\n",
       "      <td>Jeans</td>\n",
       "      <td>3</td>\n",
       "      <td>60</td>\n",
       "    </tr>\n",
       "  </tbody>\n",
       "</table>\n",
       "</div>"
      ],
      "text/plain": [
       "   Order ID Order Date Customer Name Region     Category     Product  \\\n",
       "0      1001 2023-01-05         Alice  North  Electronics      Laptop   \n",
       "1      1002 2023-01-12           Bob   East     Clothing       Shirt   \n",
       "2      1003 2023-02-14       Charlie   West  Electronics  Headphones   \n",
       "3      1004 2023-02-20         David  South    Furniture       Chair   \n",
       "4      1005 2023-03-05           Eve  North     Clothing       Jeans   \n",
       "\n",
       "   Quantity  Price  \n",
       "0         1    800  \n",
       "1         2     40  \n",
       "2         1    100  \n",
       "3         1    150  \n",
       "4         3     60  "
      ]
     },
     "execution_count": 18,
     "metadata": {},
     "output_type": "execute_result"
    }
   ],
   "source": [
    "#DATA OVERVIEW:\n",
    "#1.Show first 5 rows of dataset\n",
    "d.head(5)"
   ]
  },
  {
   "cell_type": "code",
   "execution_count": 20,
   "id": "dfec14ee-eeb1-4b32-b80f-e23da6f531a8",
   "metadata": {},
   "outputs": [
    {
     "data": {
      "text/plain": [
       "(10, 8)"
      ]
     },
     "execution_count": 20,
     "metadata": {},
     "output_type": "execute_result"
    }
   ],
   "source": [
    "#2.CHeck shape of data\n",
    "#Insights--->There is 10 rows and 8 columns\n",
    "d.shape #2.There is 10 rows and 8 columns"
   ]
  },
  {
   "cell_type": "code",
   "execution_count": 22,
   "id": "ad1c708e-927a-43c6-80a4-6d0ab04a1a75",
   "metadata": {},
   "outputs": [
    {
     "data": {
      "text/plain": [
       "Order ID         0\n",
       "Order Date       0\n",
       "Customer Name    0\n",
       "Region           0\n",
       "Category         0\n",
       "Product          0\n",
       "Quantity         0\n",
       "Price            0\n",
       "dtype: int64"
      ]
     },
     "execution_count": 22,
     "metadata": {},
     "output_type": "execute_result"
    }
   ],
   "source": [
    "#3.Check missing values\n",
    "#Insights--->It gives no column has missing values.\n",
    "d.isnull().sum()"
   ]
  },
  {
   "cell_type": "code",
   "execution_count": 23,
   "id": "9f6a725b-39dc-4b6b-90b1-2eb33cf59c6f",
   "metadata": {},
   "outputs": [
    {
     "name": "stdout",
     "output_type": "stream",
     "text": [
      "<class 'pandas.core.frame.DataFrame'>\n",
      "RangeIndex: 10 entries, 0 to 9\n",
      "Data columns (total 8 columns):\n",
      " #   Column         Non-Null Count  Dtype         \n",
      "---  ------         --------------  -----         \n",
      " 0   Order ID       10 non-null     int64         \n",
      " 1   Order Date     10 non-null     datetime64[ns]\n",
      " 2   Customer Name  10 non-null     object        \n",
      " 3   Region         10 non-null     object        \n",
      " 4   Category       10 non-null     object        \n",
      " 5   Product        10 non-null     object        \n",
      " 6   Quantity       10 non-null     int64         \n",
      " 7   Price          10 non-null     int64         \n",
      "dtypes: datetime64[ns](1), int64(3), object(4)\n",
      "memory usage: 772.0+ bytes\n"
     ]
    }
   ],
   "source": [
    "#4.check data type of all columns\n",
    "#Insights--->gives dataype in int64,datetime,object. \n",
    "d.info()"
   ]
  },
  {
   "cell_type": "code",
   "execution_count": 28,
   "id": "26bace54-b8a9-4370-bd61-4b75e78c019e",
   "metadata": {},
   "outputs": [],
   "source": [
    "#DATA CLEANING\n",
    "#1.Convert Order Date to datetime format\n",
    "#Insights---> As an object you cannot do extract month year but as a datetime you can do extract month,year)\n",
    "d[\"Order Date\"]=pd.to_datetime(d[\"Order Date\"])"
   ]
  },
  {
   "cell_type": "code",
   "execution_count": 29,
   "id": "5bfb1f83-0a96-4709-a920-b850486f48cf",
   "metadata": {},
   "outputs": [
    {
     "data": {
      "text/html": [
       "<div>\n",
       "<style scoped>\n",
       "    .dataframe tbody tr th:only-of-type {\n",
       "        vertical-align: middle;\n",
       "    }\n",
       "\n",
       "    .dataframe tbody tr th {\n",
       "        vertical-align: top;\n",
       "    }\n",
       "\n",
       "    .dataframe thead th {\n",
       "        text-align: right;\n",
       "    }\n",
       "</style>\n",
       "<table border=\"1\" class=\"dataframe\">\n",
       "  <thead>\n",
       "    <tr style=\"text-align: right;\">\n",
       "      <th></th>\n",
       "      <th>Order ID</th>\n",
       "      <th>Order Date</th>\n",
       "      <th>Customer Name</th>\n",
       "      <th>Region</th>\n",
       "      <th>Category</th>\n",
       "      <th>Product</th>\n",
       "      <th>Quantity</th>\n",
       "      <th>Price</th>\n",
       "      <th>Total Sales</th>\n",
       "    </tr>\n",
       "  </thead>\n",
       "  <tbody>\n",
       "    <tr>\n",
       "      <th>0</th>\n",
       "      <td>1001</td>\n",
       "      <td>2023-01-05</td>\n",
       "      <td>Alice</td>\n",
       "      <td>North</td>\n",
       "      <td>Electronics</td>\n",
       "      <td>Laptop</td>\n",
       "      <td>1</td>\n",
       "      <td>800</td>\n",
       "      <td>800</td>\n",
       "    </tr>\n",
       "    <tr>\n",
       "      <th>1</th>\n",
       "      <td>1002</td>\n",
       "      <td>2023-01-12</td>\n",
       "      <td>Bob</td>\n",
       "      <td>East</td>\n",
       "      <td>Clothing</td>\n",
       "      <td>Shirt</td>\n",
       "      <td>2</td>\n",
       "      <td>40</td>\n",
       "      <td>80</td>\n",
       "    </tr>\n",
       "    <tr>\n",
       "      <th>2</th>\n",
       "      <td>1003</td>\n",
       "      <td>2023-02-14</td>\n",
       "      <td>Charlie</td>\n",
       "      <td>West</td>\n",
       "      <td>Electronics</td>\n",
       "      <td>Headphones</td>\n",
       "      <td>1</td>\n",
       "      <td>100</td>\n",
       "      <td>100</td>\n",
       "    </tr>\n",
       "    <tr>\n",
       "      <th>3</th>\n",
       "      <td>1004</td>\n",
       "      <td>2023-02-20</td>\n",
       "      <td>David</td>\n",
       "      <td>South</td>\n",
       "      <td>Furniture</td>\n",
       "      <td>Chair</td>\n",
       "      <td>1</td>\n",
       "      <td>150</td>\n",
       "      <td>150</td>\n",
       "    </tr>\n",
       "    <tr>\n",
       "      <th>4</th>\n",
       "      <td>1005</td>\n",
       "      <td>2023-03-05</td>\n",
       "      <td>Eve</td>\n",
       "      <td>North</td>\n",
       "      <td>Clothing</td>\n",
       "      <td>Jeans</td>\n",
       "      <td>3</td>\n",
       "      <td>60</td>\n",
       "      <td>180</td>\n",
       "    </tr>\n",
       "    <tr>\n",
       "      <th>5</th>\n",
       "      <td>1006</td>\n",
       "      <td>2023-03-18</td>\n",
       "      <td>Frank</td>\n",
       "      <td>East</td>\n",
       "      <td>Furniture</td>\n",
       "      <td>Table</td>\n",
       "      <td>1</td>\n",
       "      <td>300</td>\n",
       "      <td>300</td>\n",
       "    </tr>\n",
       "    <tr>\n",
       "      <th>6</th>\n",
       "      <td>1007</td>\n",
       "      <td>2023-04-02</td>\n",
       "      <td>Grace</td>\n",
       "      <td>West</td>\n",
       "      <td>Electronics</td>\n",
       "      <td>Mouse</td>\n",
       "      <td>2</td>\n",
       "      <td>25</td>\n",
       "      <td>50</td>\n",
       "    </tr>\n",
       "    <tr>\n",
       "      <th>7</th>\n",
       "      <td>1008</td>\n",
       "      <td>2023-04-15</td>\n",
       "      <td>Hannah</td>\n",
       "      <td>South</td>\n",
       "      <td>Clothing</td>\n",
       "      <td>T-Shirt</td>\n",
       "      <td>2</td>\n",
       "      <td>30</td>\n",
       "      <td>60</td>\n",
       "    </tr>\n",
       "    <tr>\n",
       "      <th>8</th>\n",
       "      <td>1009</td>\n",
       "      <td>2023-05-10</td>\n",
       "      <td>Ian</td>\n",
       "      <td>North</td>\n",
       "      <td>Furniture</td>\n",
       "      <td>Sofa</td>\n",
       "      <td>1</td>\n",
       "      <td>500</td>\n",
       "      <td>500</td>\n",
       "    </tr>\n",
       "    <tr>\n",
       "      <th>9</th>\n",
       "      <td>1010</td>\n",
       "      <td>2023-05-22</td>\n",
       "      <td>Jack</td>\n",
       "      <td>East</td>\n",
       "      <td>Electronics</td>\n",
       "      <td>Keyboard</td>\n",
       "      <td>1</td>\n",
       "      <td>45</td>\n",
       "      <td>45</td>\n",
       "    </tr>\n",
       "  </tbody>\n",
       "</table>\n",
       "</div>"
      ],
      "text/plain": [
       "   Order ID Order Date Customer Name Region     Category     Product  \\\n",
       "0      1001 2023-01-05         Alice  North  Electronics      Laptop   \n",
       "1      1002 2023-01-12           Bob   East     Clothing       Shirt   \n",
       "2      1003 2023-02-14       Charlie   West  Electronics  Headphones   \n",
       "3      1004 2023-02-20         David  South    Furniture       Chair   \n",
       "4      1005 2023-03-05           Eve  North     Clothing       Jeans   \n",
       "5      1006 2023-03-18         Frank   East    Furniture       Table   \n",
       "6      1007 2023-04-02         Grace   West  Electronics       Mouse   \n",
       "7      1008 2023-04-15        Hannah  South     Clothing     T-Shirt   \n",
       "8      1009 2023-05-10           Ian  North    Furniture        Sofa   \n",
       "9      1010 2023-05-22          Jack   East  Electronics    Keyboard   \n",
       "\n",
       "   Quantity  Price  Total Sales  \n",
       "0         1    800          800  \n",
       "1         2     40           80  \n",
       "2         1    100          100  \n",
       "3         1    150          150  \n",
       "4         3     60          180  \n",
       "5         1    300          300  \n",
       "6         2     25           50  \n",
       "7         2     30           60  \n",
       "8         1    500          500  \n",
       "9         1     45           45  "
      ]
     },
     "execution_count": 29,
     "metadata": {},
     "output_type": "execute_result"
    }
   ],
   "source": [
    "#2.new column\n",
    "#Insights--->make new column by the name of Total Sales.\n",
    "d[\"Total Sales\"]=d[\"Quantity\"]*d[\"Price\"]\n",
    "d"
   ]
  },
  {
   "cell_type": "code",
   "execution_count": 34,
   "id": "ba36e5ad-b589-42b6-bb1d-6f3979941632",
   "metadata": {},
   "outputs": [],
   "source": [
    "#3.Check for duplicates \n",
    "#Insights--->It gives nothing it means no duplicates present in it. \n",
    "d.drop_duplicates(inplace=True)"
   ]
  },
  {
   "cell_type": "code",
   "execution_count": 39,
   "id": "f5a35808-9f9e-473a-bff8-c41f9ee4f6a6",
   "metadata": {},
   "outputs": [
    {
     "name": "stdout",
     "output_type": "stream",
     "text": [
      "Total revenue :  2265\n"
     ]
    }
   ],
   "source": [
    "#BASIC ANALYSIS\n",
    "#1.total revenue-->gives sum of total sales\n",
    "#Insights--->2265 adds all total sales of products and gives total revenue\n",
    "total_revenue=d[\"Total Sales\"].sum()\n",
    "print(\"Total revenue : \",total_revenue)"
   ]
  },
  {
   "cell_type": "code",
   "execution_count": 52,
   "id": "1a128642-56b8-4da6-948a-660e3e82456e",
   "metadata": {},
   "outputs": [
    {
     "name": "stdout",
     "output_type": "stream",
     "text": [
      " Total No of orders : 10\n"
     ]
    }
   ],
   "source": [
    "#2.How many orders\n",
    "#Insights--->10 is total no of orders which placed by customer.\n",
    "print(\" Total No of orders :\",d[\"Order ID\"].count())"
   ]
  },
  {
   "cell_type": "code",
   "execution_count": 45,
   "id": "b650f332-7fcb-4264-a5bd-c5ece1fc32b2",
   "metadata": {},
   "outputs": [
    {
     "name": "stdout",
     "output_type": "stream",
     "text": [
      "Average order value: 226.5\n"
     ]
    }
   ],
   "source": [
    "#3.Average order value\n",
    "#Insights---->It gives 226.5 of total sales.\n",
    "print(\"Average order value:\",d[\"Total Sales\"].mean())"
   ]
  },
  {
   "cell_type": "code",
   "execution_count": 51,
   "id": "d4d51b02-4e7d-413c-83ef-2d4b7e55544f",
   "metadata": {},
   "outputs": [
    {
     "data": {
      "text/plain": [
       "'Laptop'"
      ]
     },
     "execution_count": 51,
     "metadata": {},
     "output_type": "execute_result"
    }
   ],
   "source": [
    "#Product and Category Analysis\n",
    "#1.which product has highest sales(revenue)?\n",
    "#Insights--->.Laptop product has maximum sales\n",
    "d.groupby(\"Product\")[\"Total Sales\"].sum().idxmax()\n"
   ]
  },
  {
   "cell_type": "code",
   "execution_count": 55,
   "id": "6bd0a58f-7629-45fa-90ef-bd2f56bd4b4b",
   "metadata": {},
   "outputs": [
    {
     "data": {
      "text/plain": [
       "'Jeans'"
      ]
     },
     "execution_count": 55,
     "metadata": {},
     "output_type": "execute_result"
    }
   ],
   "source": [
    "#2.Which category generated higher quantity \n",
    "#Insights--->\"Jeans\" product has higher quantity than other product.\n",
    "d.groupby(\"Product\")[\"Quantity\"].sum().idxmax() #idxmax-->returns Product name which has max quantity."
   ]
  },
  {
   "cell_type": "code",
   "execution_count": 58,
   "id": "17b175ab-f1b4-4c5f-94ca-9fbfb4bb17ea",
   "metadata": {},
   "outputs": [
    {
     "data": {
      "text/plain": [
       "'North'"
      ]
     },
     "execution_count": 58,
     "metadata": {},
     "output_type": "execute_result"
    }
   ],
   "source": [
    "#Region analysis\n",
    "#which region has highest sales\n",
    "#Insights--->North region has highest sales among all other regions\n",
    "d.groupby(\"Region\")[\"Total Sales\"].sum().idxmax()"
   ]
  },
  {
   "cell_type": "code",
   "execution_count": 61,
   "id": "9526b8c9-58d8-4fbc-9016-4479175254ec",
   "metadata": {},
   "outputs": [
    {
     "data": {
      "text/plain": [
       "Region\n",
       "East     3\n",
       "North    3\n",
       "South    2\n",
       "West     2\n",
       "Name: Order ID, dtype: int64"
      ]
     },
     "execution_count": 61,
     "metadata": {},
     "output_type": "execute_result"
    }
   ],
   "source": [
    "#max order count by region\n",
    "#Insights--->East  and North region placed 3 orders and other south and west placed 2 orders.\n",
    "d.groupby(\"Region\")[\"Order ID\"].count().sort_values(ascending=False)"
   ]
  },
  {
   "cell_type": "code",
   "execution_count": 76,
   "id": "368aaaca-e573-4598-ae23-2e056b07b16a",
   "metadata": {},
   "outputs": [
    {
     "data": {
      "text/html": [
       "<div>\n",
       "<style scoped>\n",
       "    .dataframe tbody tr th:only-of-type {\n",
       "        vertical-align: middle;\n",
       "    }\n",
       "\n",
       "    .dataframe tbody tr th {\n",
       "        vertical-align: top;\n",
       "    }\n",
       "\n",
       "    .dataframe thead th {\n",
       "        text-align: right;\n",
       "    }\n",
       "</style>\n",
       "<table border=\"1\" class=\"dataframe\">\n",
       "  <thead>\n",
       "    <tr style=\"text-align: right;\">\n",
       "      <th></th>\n",
       "      <th>Order ID</th>\n",
       "      <th>Order Date</th>\n",
       "      <th>Customer Name</th>\n",
       "      <th>Region</th>\n",
       "      <th>Category</th>\n",
       "      <th>Product</th>\n",
       "      <th>Quantity</th>\n",
       "      <th>Price</th>\n",
       "      <th>Total Sales</th>\n",
       "      <th>Order_month</th>\n",
       "    </tr>\n",
       "  </thead>\n",
       "  <tbody>\n",
       "    <tr>\n",
       "      <th>0</th>\n",
       "      <td>1001</td>\n",
       "      <td>2023-01-05</td>\n",
       "      <td>Alice</td>\n",
       "      <td>North</td>\n",
       "      <td>Electronics</td>\n",
       "      <td>Laptop</td>\n",
       "      <td>1</td>\n",
       "      <td>800</td>\n",
       "      <td>800</td>\n",
       "      <td>1</td>\n",
       "    </tr>\n",
       "    <tr>\n",
       "      <th>1</th>\n",
       "      <td>1002</td>\n",
       "      <td>2023-01-12</td>\n",
       "      <td>Bob</td>\n",
       "      <td>East</td>\n",
       "      <td>Clothing</td>\n",
       "      <td>Shirt</td>\n",
       "      <td>2</td>\n",
       "      <td>40</td>\n",
       "      <td>80</td>\n",
       "      <td>1</td>\n",
       "    </tr>\n",
       "    <tr>\n",
       "      <th>2</th>\n",
       "      <td>1003</td>\n",
       "      <td>2023-02-14</td>\n",
       "      <td>Charlie</td>\n",
       "      <td>West</td>\n",
       "      <td>Electronics</td>\n",
       "      <td>Headphones</td>\n",
       "      <td>1</td>\n",
       "      <td>100</td>\n",
       "      <td>100</td>\n",
       "      <td>2</td>\n",
       "    </tr>\n",
       "    <tr>\n",
       "      <th>3</th>\n",
       "      <td>1004</td>\n",
       "      <td>2023-02-20</td>\n",
       "      <td>David</td>\n",
       "      <td>South</td>\n",
       "      <td>Furniture</td>\n",
       "      <td>Chair</td>\n",
       "      <td>1</td>\n",
       "      <td>150</td>\n",
       "      <td>150</td>\n",
       "      <td>2</td>\n",
       "    </tr>\n",
       "    <tr>\n",
       "      <th>4</th>\n",
       "      <td>1005</td>\n",
       "      <td>2023-03-05</td>\n",
       "      <td>Eve</td>\n",
       "      <td>North</td>\n",
       "      <td>Clothing</td>\n",
       "      <td>Jeans</td>\n",
       "      <td>3</td>\n",
       "      <td>60</td>\n",
       "      <td>180</td>\n",
       "      <td>3</td>\n",
       "    </tr>\n",
       "    <tr>\n",
       "      <th>5</th>\n",
       "      <td>1006</td>\n",
       "      <td>2023-03-18</td>\n",
       "      <td>Frank</td>\n",
       "      <td>East</td>\n",
       "      <td>Furniture</td>\n",
       "      <td>Table</td>\n",
       "      <td>1</td>\n",
       "      <td>300</td>\n",
       "      <td>300</td>\n",
       "      <td>3</td>\n",
       "    </tr>\n",
       "    <tr>\n",
       "      <th>6</th>\n",
       "      <td>1007</td>\n",
       "      <td>2023-04-02</td>\n",
       "      <td>Grace</td>\n",
       "      <td>West</td>\n",
       "      <td>Electronics</td>\n",
       "      <td>Mouse</td>\n",
       "      <td>2</td>\n",
       "      <td>25</td>\n",
       "      <td>50</td>\n",
       "      <td>4</td>\n",
       "    </tr>\n",
       "    <tr>\n",
       "      <th>7</th>\n",
       "      <td>1008</td>\n",
       "      <td>2023-04-15</td>\n",
       "      <td>Hannah</td>\n",
       "      <td>South</td>\n",
       "      <td>Clothing</td>\n",
       "      <td>T-Shirt</td>\n",
       "      <td>2</td>\n",
       "      <td>30</td>\n",
       "      <td>60</td>\n",
       "      <td>4</td>\n",
       "    </tr>\n",
       "    <tr>\n",
       "      <th>8</th>\n",
       "      <td>1009</td>\n",
       "      <td>2023-05-10</td>\n",
       "      <td>Ian</td>\n",
       "      <td>North</td>\n",
       "      <td>Furniture</td>\n",
       "      <td>Sofa</td>\n",
       "      <td>1</td>\n",
       "      <td>500</td>\n",
       "      <td>500</td>\n",
       "      <td>5</td>\n",
       "    </tr>\n",
       "    <tr>\n",
       "      <th>9</th>\n",
       "      <td>1010</td>\n",
       "      <td>2023-05-22</td>\n",
       "      <td>Jack</td>\n",
       "      <td>East</td>\n",
       "      <td>Electronics</td>\n",
       "      <td>Keyboard</td>\n",
       "      <td>1</td>\n",
       "      <td>45</td>\n",
       "      <td>45</td>\n",
       "      <td>5</td>\n",
       "    </tr>\n",
       "  </tbody>\n",
       "</table>\n",
       "</div>"
      ],
      "text/plain": [
       "   Order ID Order Date Customer Name Region     Category     Product  \\\n",
       "0      1001 2023-01-05         Alice  North  Electronics      Laptop   \n",
       "1      1002 2023-01-12           Bob   East     Clothing       Shirt   \n",
       "2      1003 2023-02-14       Charlie   West  Electronics  Headphones   \n",
       "3      1004 2023-02-20         David  South    Furniture       Chair   \n",
       "4      1005 2023-03-05           Eve  North     Clothing       Jeans   \n",
       "5      1006 2023-03-18         Frank   East    Furniture       Table   \n",
       "6      1007 2023-04-02         Grace   West  Electronics       Mouse   \n",
       "7      1008 2023-04-15        Hannah  South     Clothing     T-Shirt   \n",
       "8      1009 2023-05-10           Ian  North    Furniture        Sofa   \n",
       "9      1010 2023-05-22          Jack   East  Electronics    Keyboard   \n",
       "\n",
       "   Quantity  Price  Total Sales  Order_month  \n",
       "0         1    800          800            1  \n",
       "1         2     40           80            1  \n",
       "2         1    100          100            2  \n",
       "3         1    150          150            2  \n",
       "4         3     60          180            3  \n",
       "5         1    300          300            3  \n",
       "6         2     25           50            4  \n",
       "7         2     30           60            4  \n",
       "8         1    500          500            5  \n",
       "9         1     45           45            5  "
      ]
     },
     "execution_count": 76,
     "metadata": {},
     "output_type": "execute_result"
    }
   ],
   "source": [
    "#Time Based Analysis\n",
    "#1.Sales by month\n",
    "#Insights---> extract from order date column to month\n",
    "d[\"Order_month\"]=d[\"Order Date\"].dt.month\n",
    "d"
   ]
  },
  {
   "cell_type": "code",
   "execution_count": 77,
   "id": "1a9a103e-6452-4dc1-b1b6-a2a65bc42c2a",
   "metadata": {},
   "outputs": [
    {
     "data": {
      "text/plain": [
       "Order_month\n",
       "1    880\n",
       "2    250\n",
       "3    480\n",
       "4    110\n",
       "5    545\n",
       "Name: Total Sales, dtype: int64"
      ]
     },
     "execution_count": 77,
     "metadata": {},
     "output_type": "execute_result"
    }
   ],
   "source": [
    "#month wise sales\n",
    "#Insights--->It gives January placed highest (880) sales,Februray placed 250 sales , March placed 480 sales , April placed 110 sales, May placed 545 sales\n",
    "d.groupby(\"Order_month\")[\"Total Sales\"].sum()"
   ]
  },
  {
   "cell_type": "code",
   "execution_count": 78,
   "id": "a58e1a87-eec5-45c2-b73e-4a6d572e312a",
   "metadata": {},
   "outputs": [
    {
     "data": {
      "text/plain": [
       "1"
      ]
     },
     "execution_count": 78,
     "metadata": {},
     "output_type": "execute_result"
    }
   ],
   "source": [
    "#maximum sales in which month\n",
    "#Insights--->Januray placed maximum sales among all months\n",
    "d.groupby(\"Order_month\")[\"Total Sales\"].sum().idxmax()"
   ]
  },
  {
   "cell_type": "code",
   "execution_count": 133,
   "id": "4042c977-8375-4482-b701-9043b671cd92",
   "metadata": {},
   "outputs": [
    {
     "data": {
      "text/plain": [
       "Customer Name\n",
       "Alice    800\n",
       "Ian      500\n",
       "Frank    300\n",
       "Name: Total Sales, dtype: int64"
      ]
     },
     "execution_count": 133,
     "metadata": {},
     "output_type": "execute_result"
    }
   ],
   "source": [
    "#Top 3 Customer name which has max sales\n",
    "#Inisghts-->Alice is to customer with 800 in sales , followed by Ian(500) and Frank(300).\n",
    "d.groupby(\"Customer Name\")[\"Total Sales\"].sum().sort_values(ascending=False).head(3)\n"
   ]
  },
  {
   "cell_type": "code",
   "execution_count": 104,
   "id": "430b4aea-4f6f-4ab6-a223-4608383fc5ad",
   "metadata": {},
   "outputs": [
    {
     "data": {
      "text/plain": [
       "'Alice'"
      ]
     },
     "execution_count": 104,
     "metadata": {},
     "output_type": "execute_result"
    }
   ],
   "source": [
    "#2.Customer with most orders\n",
    "#Insights-->Alice placed highest number of orders among all customers.\n",
    "d.groupby(\"Customer Name\")[\"Order ID\"].count().idxmax()"
   ]
  },
  {
   "cell_type": "code",
   "execution_count": 110,
   "id": "59e1fb86-7c42-4009-a589-98a53721456c",
   "metadata": {},
   "outputs": [
    {
     "data": {
      "image/png": "[encoded data removed]",
      "text/plain": [
       "<Figure size 200x200 with 1 Axes>"
      ]
     },
     "metadata": {},
     "output_type": "display_data"
    }
   ],
   "source": [
    "#Visualizations\n",
    "#Bar chart-->it shows sales by category\n",
    "#Insights-->It shows sales of electronic is high.\n",
    "sales_category=d.groupby(\"Category\")[\"Total Sales\"].sum()\n",
    "plt.figure(figsize=(2,2))\n",
    "sales_category.plot(kind=\"bar\",color=\"green\",width=0.3)\n",
    "plt.ylabel(\"Sales\")\n",
    "plt.title(\"Sales by Category\")\n",
    "plt.show()"
   ]
  },
  {
   "cell_type": "code",
   "execution_count": 132,
   "id": "07b915d2-b1c0-436d-a8f3-a535e6c5d231",
   "metadata": {},
   "outputs": [
    {
     "data": {
      "image/png": "[encoded data removed]",
      "text/plain": [
       "<Figure size 300x300 with 1 Axes>"
      ]
     },
     "metadata": {},
     "output_type": "display_data"
    }
   ],
   "source": [
    "#Pie Chart-->It showing region by order id\n",
    "#Insights-->It shows max order in east region.\n",
    "orders_region=d.groupby(\"Region\")[\"Order ID\"].sum()\n",
    "e=(0.2,0,0,0) #It shows max order in which region\n",
    "plt.figure(figsize=(3,3))\n",
    "orders_region.plot(kind=\"pie\",shadow=True,autopct=\"%1.2f%%\",explode=e)\n",
    "plt\n",
    "plt.show()"
   ]
  },
  {
   "cell_type": "code",
   "execution_count": 124,
   "id": "ecf5a027-16ce-47cc-8f05-111857262353",
   "metadata": {},
   "outputs": [
    {
     "data": {
      "image/png": "[encoded data removed]",
      "text/plain": [
       "<Figure size 300x300 with 1 Axes>"
      ]
     },
     "metadata": {},
     "output_type": "display_data"
    }
   ],
   "source": [
    "#Top products by sales\n",
    "#Horizonatal bar chart -->which shows top product by sales. \n",
    "#Insights-->It shows sales of laptop is high.\n",
    "sales_products=d.groupby(\"Product\")[\"Total Sales\"].sum().sort_values(ascending=True)\n",
    "plt.figure(figsize=(3,3))\n",
    "sales_products.plot(kind=\"barh\",color=\"blue\")\n",
    "plt.xlabel(\"Sales\")\n",
    "plt.title(\"Top Products by Sales\")\n",
    "plt.show()"
   ]
  },
  {
   "cell_type": "code",
   "execution_count": 127,
   "id": "0196ae06-5116-4d93-ab00-e3d03b0f6cc3",
   "metadata": {},
   "outputs": [
    {
     "data": {
      "image/png": "[encoded data removed]",
      "text/plain": [
       "<Figure size 300x300 with 1 Axes>"
      ]
     },
     "metadata": {},
     "output_type": "display_data"
    }
   ],
   "source": [
    "#line chart---->It shows sales by month\n",
    "#Insights--->It shows in 1st month has max sales.\n",
    "month_sales=d.groupby(\"Order_month\")[\"Total Sales\"].sum()\n",
    "plt.figure(figsize=(3,3))\n",
    "month_sales.plot(kind=\"line\",color=\"green\")\n",
    "plt.ylabel(\"sales\")\n",
    "plt.title(\"Sales by month\")\n",
    "\n",
    "plt.show()"
   ]
  },
  {
   "cell_type": "code",
   "execution_count": 128,
   "id": "08113b28-3ad7-4ace-80b7-52fc184920e0",
   "metadata": {},
   "outputs": [
    {
     "data": {
      "image/png": "[encoded data removed]",
      "text/plain": [
       "<Figure size 200x200 with 1 Axes>"
      ]
     },
     "metadata": {},
     "output_type": "display_data"
    }
   ],
   "source": [
    "#Bar Chart---->It shows sales by region.\n",
    "#Insights-->It shows north region has max sales.\n",
    "region_sales=d.groupby(\"Region\")[\"Total Sales\"].sum()\n",
    "plt.figure(figsize=(2,2))\n",
    "region_revenue.plot(kind=\"bar\",color=\"red\",width=0.3)\n",
    "\n",
    "plt.title(\"Sales by Region\")\n",
    "plt.xlabel(\"Region\")\n",
    "plt.ylabel(\"Revenue\")\n",
    "plt.show()"
   ]
  },
  {
   "cell_type": "code",
   "execution_count": null,
   "id": "f5672c07-be0c-4843-a31c-208152dd64a0",
   "metadata": {},
   "outputs": [],
   "source": []
  }
 ],
 "metadata": {
  "kernelspec": {
   "display_name": "Python 3 (ipykernel)",
   "language": "python",
   "name": "python3"
  },
  "language_info": {
   "codemirror_mode": {
    "name": "ipython",
    "version": 3
   },
   "file_extension": ".py",
   "mimetype": "text/x-python",
   "name": "python",
   "nbconvert_exporter": "python",
   "pygments_lexer": "ipython3",
   "version": "3.12.7"
  }
 },
 "nbformat": 4,
 "nbformat_minor": 5
}
